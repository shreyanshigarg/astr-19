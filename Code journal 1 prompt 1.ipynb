{
 "cells": [
  {
   "cell_type": "code",
   "execution_count": null,
   "id": "8b8332e5",
   "metadata": {},
   "outputs": [],
   "source": [
    "# Write a Python program to print out your full name, your preferred pronouns (optional), and \n",
    "# two sentences about your favorite movie and your favorite food.\n",
    "name = \"Shreyanshi Garg\"\n",
    "pronouns = \"She/her\"\n",
    "movie = \"Interstellar\"\n",
    "fav_food = \"Pani puri\"\n",
    "print(\"My name is\", name, 'and I use', prounouns, 'pronouns. My favourite movie is', movie, 'and favourite food is', fav_food, 'which is an Indian dish.')"
   ]
  }
 ],
 "metadata": {
  "kernelspec": {
   "display_name": "Python 3 (ipykernel)",
   "language": "python",
   "name": "python3"
  },
  "language_info": {
   "codemirror_mode": {
    "name": "ipython",
    "version": 3
   },
   "file_extension": ".py",
   "mimetype": "text/x-python",
   "name": "python",
   "nbconvert_exporter": "python",
   "pygments_lexer": "ipython3",
   "version": "3.10.9"
  }
 },
 "nbformat": 4,
 "nbformat_minor": 5
}
